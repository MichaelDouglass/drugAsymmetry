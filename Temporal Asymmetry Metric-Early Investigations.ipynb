{
 "cells": [
  {
   "cell_type": "markdown",
   "metadata": {},
   "source": [
    "# Finding a Metric to Describe Asymmetry in Steering Drug Applications"
   ]
  },
  {
   "cell_type": "code",
   "execution_count": null,
   "metadata": {},
   "outputs": [],
   "source": [
    "import pandas as pd\n",
    "import numpy as np\n",
    "import matplotlib.pyplot as plt\n",
    "%matplotlib inline\n",
    "\n",
    "from pprint import pprint as pp\n",
    "\n",
    "import os\n",
    "import sys\n",
    "\n",
    "import xlwt\n",
    "\n",
    "from ggplot import *"
   ]
  },
  {
   "cell_type": "markdown",
   "metadata": {},
   "source": [
    "Initialize fitness values for 15 drugs..."
   ]
  },
  {
   "cell_type": "code",
   "execution_count": null,
   "metadata": {},
   "outputs": [],
   "source": [
    "AMPf = np.array([1.851, 2.082, 1.948, 2.434, 2.024, 2.198, 2.033, 0.034, 1.57, 2.165, 0.051, 0.083, 2.186, 2.322, 0.088, 2.821])\n",
    "AMf  = np.array([1.778, 1.782, 2.042, 1.752, 1.448, 1.544, 1.184, 0.063, 1.72, 2.008, 1.799, 2.005, 1.557, 2.247, 1.768, 2.047])\n",
    "CECf = np.array([2.258, 1.996, 2.151, 2.648, 2.396, 1.846, 2.23, 0.214, 0.234, 0.172, 2.242, 0.093, 2.15, 0.095, 2.64, 0.516])\n",
    "CTXf = np.array([0.16, 0.085, 1.936, 2.348, 1.653, 0.138, 2.295, 2.269, 0.185, 0.14, 1.969, 0.203, 0.225, 0.092, 0.119, 2.412])\n",
    "ZOXf = np.array([0.993, 0.805, 2.069, 2.683, 1.698, 2.01, 2.138, 2.688, 1.106, 1.171, 1.894, 0.681, 1.116, 1.105, 1.103, 2.591])\n",
    "CXMf = np.array([1.748, 1.7, 2.07, 1.938, 2.94, 2.173, 2.918, 3.272, 0.423, 1.578, 1.911, 2.754, 2.024, 1.678, 1.591, 2.923])\n",
    "CROf = np.array([1.092, 0.287, 2.554, 3.042, 2.88, 0.656, 2.732, 0.436, 0.83, 0.54, 3.173, 1.153, 1.407, 0.751, 2.74, 3.227])\n",
    "AMCf = np.array([1.435, 1.573, 1.061, 1.457, 1.672, 1.625, 0.073, 0.068, 1.417, 1.351, 1.538, 1.59, 1.377, 1.914, 1.307, 1.728])\n",
    "CAZf = np.array([2.134, 2.656, 2.618, 2.688, 2.042, 2.756, 2.924, 0.251, 0.288, 0.576, 1.604, 1.378, 2.63, 2.677, 2.893, 2.563])\n",
    "CTTf = np.array([2.125, 1.922, 2.804, 0.588, 3.291, 2.888, 3.082, 3.508, 3.238, 2.966, 2.883, 0.89, 0.546, 3.181, 3.193, 2.543])\n",
    "SAMf = np.array([1.879, 2.533, 0.133, 0.094, 2.456, 2.437, 0.083, 0.094, 2.198, 2.57, 2.308, 2.886, 2.504, 3.002, 2.528, 3.453])\n",
    "CPRf = np.array([1.743, 1.662, 1.763, 1.785, 2.018, 2.05, 2.042, 0.218, 1.553, 0.256, 0.165, 0.221, 0.223, 0.239, 1.811, 0.288])\n",
    "CPDf = np.array([0.595, 0.245, 2.604, 3.043, 1.761, 1.471, 2.91, 3.096, 0.432, 0.388, 2.651, 1.103, 0.638, 0.986, 0.963, 3.268])\n",
    "TZPf = np.array([2.679, 2.906, 2.427, 0.141, 3.038, 3.309, 2.528, 0.143, 2.709, 2.5, 0.172, 0.093, 2.453, 2.739, 0.609, 0.171])\n",
    "FEPf = np.array([2.59, 2.572, 2.393, 2.832, 2.44, 2.808, 2.652, 0.611, 2.067, 2.446, 2.957, 2.633, 2.735, 2.863, 2.796, 3.203])"
   ]
  },
  {
   "cell_type": "markdown",
   "metadata": {},
   "source": [
    "Initialize code:\n",
    "\n",
    "\"States\" are the genotype that a drug can be in ranging from '0000' to '1111' and is used to index the fitness values.\n",
    "\n",
    "The Hamming Distance is a computer science term used to check the total differences between two strings --- or rather minimum number of substituions between them. For example, '0010' $\\rightarrow$ '0011' has a Hamming Distance of 1, while '1101' $\\rightarrow$ '0000' has a Hamming Distance of 3.\n",
    "\n",
    "This is used in calculating the transition probability matrix described as follows:\n",
    "\n",
    "$$\n",
    "P(i\\rightarrow j) = \\left\\{\n",
    "        \\begin{array}{ll}\n",
    "            \\frac{(f(j)-f(i)^R}{\\sum (f(g)-f(i))^R} & \\quad f(j)>f(i) \\mathrm{\\:and\\:HammingDistance}(i,j) = 1 \\\\\n",
    "            0 & \\quad \\mathrm{otherwise}\n",
    "        \\end{array}\n",
    "    \\right.\n",
    "$$\n",
    "\n",
    "where $g\\in \\{0,1\\}^N$\n",
    "\n",
    "The Drug class has parameters:\n",
    "- name = the name of the drug\n",
    "- Fit = the array of fitness values\n",
    "- states = the states corresponding to those fitness values\n",
    "- LFP = the state that is the lowest fitness peak\n",
    "- R = biasing factor (default set to 0)\n",
    "\n",
    "The Drug class can call methods to return all the above variables in addition to:\n",
    "- tMat = the transition matrix calculated from the above formula\n",
    "- LPFf = the fitness value corresponding to the lowest fitness peak"
   ]
  },
  {
   "cell_type": "code",
   "execution_count": null,
   "metadata": {},
   "outputs": [],
   "source": [
    "# Assign State Binary Genotypes for labels\n",
    "N = 4  # Bit Count of States\n",
    "states = []\n",
    "for i in range(16):\n",
    "    b = format(i, 'b')\n",
    "    bB = b.zfill(N)\n",
    "    states.append(bB)\n",
    "\n",
    "# Define the Hamming Distance\n",
    "def hamDist(Si, Sj):\n",
    "    return sum(ei != ej for ei, ej in zip(Si, Sj))\n",
    "\n",
    "# Zero State of equal probabilities\n",
    "S0 = np.array(np.ones(len(states))/2**N)\n",
    "\n",
    "# Make a drug class\n",
    "class Drug:\n",
    "    # This will make it easy to call certain qualities\n",
    "    # Arguments:\n",
    "    # name is a string\n",
    "    # Fit is an array of the fitness values\n",
    "    # States is the binary genotype that corresponds to the bins\n",
    "    # R is the biasing variable that we set to 0\n",
    "    def __init__(self, name, Fit, states, LFP, R=0):\n",
    "        self.name = name\n",
    "        self.Fit = np.array(Fit)\n",
    "        self.states = states\n",
    "        self.LFP = LFP\n",
    "        self.R = R\n",
    "        \n",
    "        # The following code is to calculate the transition matrix\n",
    "        P = np.zeros([len(self.states),len(self.states)])\n",
    "    \n",
    "        for i in range(len(self.states)):\n",
    "            for j in range(len(self.states)):\n",
    "                if self.Fit[j] >= self.Fit[i] and hamDist(self.states[i], self.states[j]) == 1:\n",
    "                    P[i, j] = (self.Fit[j] - self.Fit[i])**R\n",
    "                    d = 0\n",
    "                    for s in range(len(self.states)):\n",
    "                        if hamDist(self.states[i], self.states[s]) == 1 and self.Fit[s] > self.Fit[i]:\n",
    "                            d = d + (self.Fit[s] - self.Fit[i])**R\n",
    "                    P[i, j] = P[i, j]/d\n",
    "                    \n",
    "                    \n",
    "        # if there is no probability to reach any other state,\n",
    "        # there is 100% probability to remain in the initial state.\n",
    "        for p in range(len(P)):\n",
    "            spots = np.where(P[p] != 0)\n",
    "            if len(spots[0])==0:\n",
    "                P[p, p]=1\n",
    "\n",
    "        self.tMat = np.matrix(P)\n",
    "        self.LPFf = self.Fit[int(self.LFP, 2)]"
   ]
  },
  {
   "cell_type": "code",
   "execution_count": null,
   "metadata": {},
   "outputs": [],
   "source": [
    "AMP = Drug('Ampicillin', AMPf, states, '0110')\n",
    "AM = Drug('Amoxicillin', AMf, states, '0010')\n",
    "CEC = Drug('Cefaclor', CECf, states, '0100')\n",
    "CTX = Drug('Cefotaxime', CTXf, states, '1010')\n",
    "ZOX = Drug('Ceftizoxime', ZOXf, states, '1001')\n",
    "CXM = Drug('Cefuroxime', CXMf, states, '0100')\n",
    "CRO = Drug('Ceftriaxone', CROf, states, '0100')\n",
    "AMC = Drug('Amoxicillin+Clav', AMCf, states, '0100')\n",
    "CAZ = Drug('Ceftazidime', CAZf, states, '0011')\n",
    "CTT = Drug('Cefotetan', CTTf, states, '1101')\n",
    "SAM = Drug('Ampicillin+Sulbactam', SAMf, states, '1111')\n",
    "CPR = Drug('Cefprozil', CPRf, states, '0011')\n",
    "CPD = Drug('Cefpodoxime', CPDf, states, '1010')\n",
    "TZP = Drug('Piperacillin+Tazobactam', TZPf, states, '1000')\n",
    "FEP = Drug('Cefepime', FEPf, states, '0000')"
   ]
  },
  {
   "cell_type": "markdown",
   "metadata": {},
   "source": [
    "Now, we are going to find a metric 'Temporal Asymmetry' that shows the imbalance of drug applications to reach a minumum average fitness. \n",
    "\n",
    "Instead of using contour plots, as attempted previously, it is much more relevant to just use the matshow method.\n",
    "\n",
    "This does not interpolate, as countour did, and each square represents the real discrete value."
   ]
  },
  {
   "cell_type": "markdown",
   "metadata": {},
   "source": [
    "### For example,\n",
    "this is a 10x10 matrix of drug applications in the following order:\n",
    "\n",
    "SAM $\\rightarrow$ CPR (Steering)\n",
    "\n",
    "AMP (Applied 10 times after steering sequence.)\n",
    "\n",
    "The matrix shows the average fitness after the steering combination applied 1 to 10 times. Just for clarification, the order is SAM, CPR, AMP in all cases for this example."
   ]
  },
  {
   "cell_type": "code",
   "execution_count": null,
   "metadata": {},
   "outputs": [],
   "source": [
    "Ap = 10\n",
    "avgMat = np.zeros([Ap+1, Ap+1])\n",
    "for NA in range(0,Ap+1):\n",
    "    for NB in range(0,Ap+1):\n",
    "        SN = np.array(S0) * SAM.tMat**NA * CPR.tMat**NB * AMP.tMat**10\n",
    "        AvgFit = np.dot(np.array(SN[0,:]), AMP.Fit)\n",
    "        avgMat[NA, NB] = AvgFit\n",
    "\n",
    "plt.set_cmap('YlOrBr')\n",
    "fig = plt.figure(figsize=(15,10))\n",
    "ax = fig.add_subplot(111)\n",
    "Z = ax.matshow(avgMat)\n",
    "ax.set_xlabel('CPR Applied NB Times')\n",
    "ax.set_ylabel('SAM Applied NA Times')\n",
    "ax.set_title('Average Fitness <f>')\n",
    "plt.colorbar(Z)"
   ]
  },
  {
   "cell_type": "markdown",
   "metadata": {},
   "source": [
    "If the steering order were to be flopped (CPR$\\rightarrow$SAM), the result would be very different."
   ]
  },
  {
   "cell_type": "code",
   "execution_count": null,
   "metadata": {},
   "outputs": [],
   "source": [
    "Ap = 10\n",
    "avgMat = np.zeros([Ap+1, Ap+1])\n",
    "for NA in range(0,Ap+1):\n",
    "    for NB in range(0,Ap+1):\n",
    "        SN = np.array(S0) * CPR.tMat**NA * SAM.tMat**NB * AMP.tMat**10\n",
    "        AvgFit = np.dot(np.array(SN[0,:]), AMP.Fit)\n",
    "        avgMat[NA, NB] = AvgFit\n",
    "        \n",
    "fig = plt.figure(figsize=(15,10))\n",
    "ax = fig.add_subplot(111)\n",
    "Z = ax.matshow(avgMat)\n",
    "ax.set_xlabel('SAM Applied NB Times')\n",
    "ax.set_ylabel('CPR Applied NA Times')\n",
    "ax.set_title('Average Fitness <f>')\n",
    "plt.colorbar(Z)"
   ]
  },
  {
   "cell_type": "code",
   "execution_count": null,
   "metadata": {},
   "outputs": [],
   "source": [
    "# list of all drug Classes\n",
    "allDrugs = [AMP, AM, CEC, CTX, ZOX , CXM, CRO, AMC, CAZ, CTT, SAM, CPR, CPD, TZP, FEP]"
   ]
  },
  {
   "cell_type": "code",
   "execution_count": null,
   "metadata": {},
   "outputs": [],
   "source": [
    "# Make a path for these plots, just for a test\n",
    "if os.path.exists('Plots/') == False:\n",
    "    os.makedirs('Plots/')"
   ]
  },
  {
   "cell_type": "code",
   "execution_count": null,
   "metadata": {},
   "outputs": [],
   "source": [
    "# Change this to Y to plot all the matrices\n",
    "Q = 'N'"
   ]
  },
  {
   "cell_type": "markdown",
   "metadata": {},
   "source": [
    "These plots are all the possible combinations of steering drugs to the final drug shown in a 10x10 matrix. These are useful at the end when confirming asymmetry in application of drugs."
   ]
  },
  {
   "cell_type": "code",
   "execution_count": null,
   "metadata": {},
   "outputs": [],
   "source": [
    "if Q.upper() == 'N':\n",
    "    for DRUG in allDrugs:\n",
    "        # Drug we are steering to\n",
    "        \n",
    "        # Make a path for these plots, just for a test\n",
    "        if os.path.exists('Plots/'+DRUG.name+'/') == False:\n",
    "            os.makedirs('Plots/'+DRUG.name+'/')\n",
    "\n",
    "        for i in range(len(allDrugs)):\n",
    "            for j in range(len(allDrugs)):\n",
    "                if allDrugs[i] != DRUG:\n",
    "                    if allDrugs[j] != DRUG:\n",
    "                        Ap = 10\n",
    "                        avgMat = np.zeros([Ap+1, Ap+1])\n",
    "                        for NA in range(0,Ap+1):\n",
    "                            for NB in range(0,Ap+1):\n",
    "                                SN = np.array(S0) * allDrugs[i].tMat**NA * allDrugs[j].tMat**NB * DRUG.tMat**10\n",
    "                                AvgFit = np.dot(np.array(SN[0,:]), AMP.Fit)\n",
    "                                avgMat[NA, NB] = AvgFit\n",
    "                    \n",
    "                        fig = plt.figure(figsize=(6,6))\n",
    "                        ax = fig.add_subplot(111)\n",
    "                        Z = ax.matshow(avgMat)\n",
    "                        ax.set_xlabel(allDrugs[j].name + ' Applied Second N Times')\n",
    "                        ax.set_ylabel(allDrugs[i].name + ' Applied First N Times')\n",
    "                        ax.set_title('Average Fitness <f> for ' + DRUG.name)\n",
    "                        plt.colorbar(Z)\n",
    "                        plt.tight_layout()\n",
    "                        plt.savefig('Plots/'+DRUG.name+'/'+allDrugs[i].name+'_'+allDrugs[j].name+'.png')\n",
    "                        plt.close()"
   ]
  },
  {
   "cell_type": "markdown",
   "metadata": {},
   "source": [
    "### Recording a metric\n",
    "This next section attempts to find the location of the minimum peak fitness, and if that does not succeed, just the minimum average fitness. Then, the data is saved to an excel sheet for easy viewing.\n",
    "\n",
    "Note: In future iterations, instead of selecting the lowest fitness, it might be beneficial to keep expanding the percent error."
   ]
  },
  {
   "cell_type": "code",
   "execution_count": null,
   "metadata": {},
   "outputs": [],
   "source": [
    "col_names=['Final Drug', 'Steering Drug 1', 'Steering Drug 1 Amount', 'Steering Drug 2', 'Steering Drug 2 Amount',\n",
    "           'Drug1:Drug2', 'Drug1+Drug2', 'Lowest Fitness Peak Value', 'Lowest Fitness Achieved',\n",
    "           'Maximum Simulated Drug Application', 'R-Value', 'Percent to LPFf Attempted']"
   ]
  },
  {
   "cell_type": "code",
   "execution_count": null,
   "metadata": {
    "scrolled": true
   },
   "outputs": [],
   "source": [
    "Ap = 10\n",
    "\n",
    "book = xlwt.Workbook()\n",
    "sh1 = book.add_sheet('1')\n",
    "for n in range(len(col_names)):\n",
    "    sh1.write(0, n, col_names[n])\n",
    "    \n",
    "K = 1\n",
    "# Drug we are steering to\n",
    "for DRUG in allDrugs:\n",
    "    LPFf = DRUG.LPFf\n",
    "    Perc = 0.1\n",
    "\n",
    "    for i in range(len(allDrugs)):\n",
    "        for j in range(len(allDrugs)):\n",
    "            if allDrugs[i] != DRUG:\n",
    "                if allDrugs[j] != DRUG:\n",
    "                    avgMat = np.zeros([Ap+1, Ap+1])\n",
    "                    for NA in range(0,Ap+1):\n",
    "                        for NB in range(0,Ap+1):\n",
    "                            SN = np.array(S0) * allDrugs[i].tMat**NA * allDrugs[j].tMat**NB * DRUG.tMat**10\n",
    "                            AvgFit = np.dot(np.array(SN[0,:]), AMP.Fit)\n",
    "                            avgMat[NA, NB] = AvgFit\n",
    "                    Z = np.where(np.logical_and(avgMat<=LPFf*(1+Perc), avgMat>=LPFf*(1-Perc)))\n",
    "                    indx = [[r, c] for r in Z[0] for c in Z[1]]\n",
    "                    if len(indx) == 0:\n",
    "                        Z = np.where(avgMat==avgMat.min())\n",
    "                        indx = [[r, c] for r in Z[0] for c in Z[1]]\n",
    "                        vals = [DRUG.name, allDrugs[i].name, indx[0][0], allDrugs[j].name, indx[0][1],\n",
    "                                indx[0][0]/indx[0][1], indx[0][0]+indx[0][1], LPFf, avgMat.min(),\n",
    "                                Ap, DRUG.R, Perc]\n",
    "                    else:\n",
    "                        vals = [DRUG.name, allDrugs[i].name, indx[0][0], allDrugs[j].name, indx[0][1],\n",
    "                                indx[0][0]/indx[0][1], indx[0][0]+indx[0][1], LPFf,\n",
    "                                avgMat[indx[0][0], indx[0][1]], Ap, DRUG.R, Perc]\n",
    "#                     print(Z)  #  This was to ensure that the first index combo is always the lowest\n",
    "#                     print(indx[0][0], indx[0][1])  #  And to ensure that this is the first index...\n",
    "                    if np.isinf(vals[5]) == True:\n",
    "                        vals[5] = -2\n",
    "                    if np.isnan(vals[5]) == True:\n",
    "                        vals[5] = -1\n",
    "                    for n in range(len(vals)):\n",
    "                        try:\n",
    "                            sh1.write(K, n, vals[n])\n",
    "                        except Exception:\n",
    "                            vals[n] = vals[n].astype(np.float)\n",
    "                            sh1.write(K, n, vals[n])\n",
    "                    K = K + 1\n",
    "                        \n",
    "book.save('Plots/Temporal_AsymmetryR0.xls')"
   ]
  },
  {
   "cell_type": "markdown",
   "metadata": {},
   "source": [
    "From the excel file, a dataframe is an easy way to visualize each series of drug applications."
   ]
  },
  {
   "cell_type": "code",
   "execution_count": null,
   "metadata": {
    "scrolled": true
   },
   "outputs": [],
   "source": [
    "df = pd.read_excel('Plots/Temporal_AsymmetryR0.xls')\n",
    "# Limit to show first five rows\n",
    "df.head()"
   ]
  },
  {
   "cell_type": "markdown",
   "metadata": {},
   "source": [
    "The following cell is used to plot the amounts of steering drug 1 and steering drug 2 needed to reach the tolerance of the lowest fitness peak. It shows that asymmetry exists in almost all cases, and that values for Amoxicillin and Cefotaxime should be double-checked."
   ]
  },
  {
   "cell_type": "code",
   "execution_count": null,
   "metadata": {},
   "outputs": [],
   "source": [
    "ggplot(aes(x='Steering Drug 1 Amount', y='Steering Drug 2 Amount'), data=df) +\\\n",
    "        facet_wrap('Final Drug') +\\\n",
    "        geom_point() +\\\n",
    "        scale_x_continuous(limits = (0, Ap)) +\\\n",
    "        scale_y_continuous(limits = (0, Ap)) +\\\n",
    "        ggtitle('R=0')"
   ]
  },
  {
   "cell_type": "markdown",
   "metadata": {},
   "source": [
    "The default R-value is 0; however, the data would be much more interesting if it were to be set to 1. Also, the current applications is maxed at 10 to save computer memory. The above plots could show that we picked one of the best final steered drugs to attempt to analyze asymmetry. Or, we have to run the simulation longer."
   ]
  },
  {
   "cell_type": "markdown",
   "metadata": {},
   "source": [
    "## Changing R = 1; Application('Ap') = 10; Percent within = 10%"
   ]
  },
  {
   "cell_type": "code",
   "execution_count": null,
   "metadata": {},
   "outputs": [],
   "source": [
    "r = 1\n",
    "\n",
    "AMP = Drug('Ampicillin', AMPf, states, '0110', R=r)\n",
    "AM = Drug('Amoxicillin', AMf, states, '0010', R=r)\n",
    "CEC = Drug('Cefaclor', CECf, states, '0100', R=r)\n",
    "CTX = Drug('Cefotaxime', CTXf, states, '1010', R=r)\n",
    "ZOX = Drug('Ceftizoxime', ZOXf, states, '1001', R=r)\n",
    "CXM = Drug('Cefuroxime', CXMf, states, '0100', R=r)\n",
    "CRO = Drug('Ceftriaxone', CROf, states, '0100', R=r)\n",
    "AMC = Drug('Amoxicillin+Clav', AMCf, states, '0100', R=r)\n",
    "CAZ = Drug('Ceftazidime', CAZf, states, '0011', R=r)\n",
    "CTT = Drug('Cefotetan', CTTf, states, '1101', R=r)\n",
    "SAM = Drug('Ampicillin+Sulbactam', SAMf, states, '1111', R=r)\n",
    "CPR = Drug('Cefprozil', CPRf, states, '0011', R=r)\n",
    "CPD = Drug('Cefpodoxime', CPDf, states, '1010', R=r)\n",
    "TZP = Drug('Piperacillin+Tazobactam', TZPf, states, '1000', R=r)\n",
    "FEP = Drug('Cefepime', FEPf, states, '0000', R=r)\n",
    "\n",
    "# list of all drug Classes\n",
    "allDrugs = [AMP, AM, CEC, CTX, ZOX , CXM, CRO, AMC, CAZ, CTT, SAM, CPR, CPD, TZP, FEP]\n",
    "\n",
    "book = xlwt.Workbook()\n",
    "sh1 = book.add_sheet('1')\n",
    "for n in range(len(col_names)):\n",
    "    sh1.write(0, n, col_names[n])\n",
    "    \n",
    "K = 1\n",
    "# Drug we are steering to\n",
    "for DRUG in allDrugs:\n",
    "    LPFf = DRUG.LPFf\n",
    "    Perc = 0.1\n",
    "\n",
    "    for i in range(len(allDrugs)):\n",
    "        for j in range(len(allDrugs)):\n",
    "            if allDrugs[i] != DRUG:\n",
    "                if allDrugs[j] != DRUG:\n",
    "                    Ap = 10\n",
    "                    avgMat = np.zeros([Ap+1, Ap+1])\n",
    "                    for NA in range(0,Ap+1):\n",
    "                        for NB in range(0,Ap+1):\n",
    "                            SN = np.array(S0) * allDrugs[i].tMat**NA * allDrugs[j].tMat**NB * DRUG.tMat**10\n",
    "                            AvgFit = np.dot(np.array(SN[0,:]), AMP.Fit)\n",
    "                            avgMat[NA, NB] = AvgFit\n",
    "                    Z = np.where(np.logical_and(avgMat<=LPFf*(1+Perc), avgMat>=LPFf*(1-Perc)))\n",
    "                    indx = [[r, c] for r in Z[0] for c in Z[1]]\n",
    "                    if len(indx) == 0:\n",
    "                        Z = np.where(avgMat==avgMat.min())\n",
    "                        indx = [[r, c] for r in Z[0] for c in Z[1]]\n",
    "                        vals = [DRUG.name, allDrugs[i].name, indx[0][0], allDrugs[j].name, indx[0][1],\n",
    "                                indx[0][0]/indx[0][1], indx[0][0]+indx[0][1], LPFf, avgMat.min(),\n",
    "                                Ap, DRUG.R, Perc]\n",
    "                    else:\n",
    "                        vals = [DRUG.name, allDrugs[i].name, indx[0][0], allDrugs[j].name, indx[0][1],\n",
    "                                indx[0][0]/indx[0][1], indx[0][0]+indx[0][1], LPFf,\n",
    "                                avgMat[indx[0][0], indx[0][1]], Ap, DRUG.R, Perc]\n",
    "                    if np.isinf(vals[5]) == True:\n",
    "                        vals[5] = -2\n",
    "                    if np.isnan(vals[5]) == True:\n",
    "                        vals[5] = -1\n",
    "                    for n in range(len(vals)):\n",
    "                        try:\n",
    "                            sh1.write(K, n, vals[n])\n",
    "                        except Exception:\n",
    "                            vals[n] = vals[n].astype(np.float)\n",
    "                            sh1.write(K, n, vals[n])\n",
    "                    K = K + 1\n",
    "                        \n",
    "book.save('Plots/Temporal_AsymmetryR1.xls')"
   ]
  },
  {
   "cell_type": "code",
   "execution_count": null,
   "metadata": {
    "scrolled": true
   },
   "outputs": [],
   "source": [
    "df = pd.read_excel('Plots/Temporal_AsymmetryR1.xls')\n",
    "df.head()"
   ]
  },
  {
   "cell_type": "code",
   "execution_count": null,
   "metadata": {},
   "outputs": [],
   "source": [
    "ggplot(aes(x='Steering Drug 1 Amount', y='Steering Drug 2 Amount'), data=df) +\\\n",
    "        facet_wrap('Final Drug') +\\\n",
    "        geom_point() +\\\n",
    "        scale_x_continuous(limits = (0, Ap)) +\\\n",
    "        scale_y_continuous(limits = (0, Ap)) +\\\n",
    "        ggtitle('R=1')"
   ]
  },
  {
   "cell_type": "markdown",
   "metadata": {},
   "source": [
    "This switching from R=0 to R=1 did not change much; however, that could be due to a high tolerance and low application."
   ]
  },
  {
   "cell_type": "markdown",
   "metadata": {},
   "source": [
    "### Closer look at Ampicillin\n",
    "With some manipulation of the dataframe, a symmetric application of steering drugs is more abnormal than normal when attempting to reach lowest fitness peak."
   ]
  },
  {
   "cell_type": "code",
   "execution_count": null,
   "metadata": {},
   "outputs": [],
   "source": [
    "df = pd.read_excel('Plots/Temporal_AsymmetryR0.xls')\n",
    "t = df[(df['Final Drug']=='Ampicillin')]\n",
    "t = t[t['Drug1+Drug2'] != 0 ]\n",
    "\n",
    "ggplot(aes(x='Steering Drug 1 Amount', y='Steering Drug 2 Amount',\n",
    "           color='Steering Drug 1'), data=t) +\\\n",
    "        geom_point() +\\\n",
    "        scale_x_continuous(limits = (0, 11)) +\\\n",
    "        scale_y_continuous(limits = (0, 11)) +\\\n",
    "        ggtitle('Ampicillin')"
   ]
  },
  {
   "cell_type": "markdown",
   "metadata": {},
   "source": [
    "The following sorting method separates out all the steering drugs and shows the highest sum first. \n",
    "\n",
    "To see the matrices of these plots see the Ampicillin directory:\n",
    "- Ampicillin+Sulbactam_Cefprozil.png\n",
    "- Amoxicillin+Clav_Cefotaxime.png\n",
    "- Cefpodoxime_Cefuroxime.png\n",
    "- Piperacillin+Tazobactam_Ceftizoxime.png\n",
    "- Ceftriaxone_Cefuroxime.png\n",
    "\n",
    "The Drug1:Drug2 is also important in assessing the magnitude of the asymmetry."
   ]
  },
  {
   "cell_type": "code",
   "execution_count": null,
   "metadata": {
    "scrolled": false
   },
   "outputs": [],
   "source": [
    "rank = t[['Steering Drug 1', 'Steering Drug 1 Amount', 'Steering Drug 2', 'Steering Drug 2 Amount',\n",
    "          'Drug1+Drug2', 'Drug1:Drug2', 'Lowest Fitness Achieved']]\n",
    "rank = rank.sort_values(by='Drug1+Drug2', ascending=False)\n",
    "print('Top Asymmetry by Addition for Ampicillin: ' + SAM.name + ' and ' + CPR.name)\n",
    "print('Aiming for fitness value of {:.3f}'.format(AMP.LPFf))\n",
    "rank.head(10)"
   ]
  },
  {
   "cell_type": "markdown",
   "metadata": {},
   "source": [
    "## Changing R. One Drug and Steering Sequence at a time.\n",
    "The following cells show how varying R from 0 to 50 affects the necessary drug applications."
   ]
  },
  {
   "cell_type": "code",
   "execution_count": null,
   "metadata": {},
   "outputs": [],
   "source": [
    "Ap = 10\n",
    "K = 1\n",
    "Perc = 0.0\n",
    "\n",
    "book = xlwt.Workbook()\n",
    "sh1 = book.add_sheet('1')\n",
    "for n in range(len(col_names)):\n",
    "    sh1.write(0, n, col_names[n])\n",
    "\n",
    "for r in range(0, 11):\n",
    "\n",
    "    AMP = Drug('Ampicillin', AMPf, states, '0110', R=r)\n",
    "    AM = Drug('Amoxicillin', AMf, states, '0010', R=r)\n",
    "    CEC = Drug('Cefaclor', CECf, states, '0100', R=r)\n",
    "    CTX = Drug('Cefotaxime', CTXf, states, '1010', R=r)\n",
    "    ZOX = Drug('Ceftizoxime', ZOXf, states, '1001', R=r)\n",
    "    CXM = Drug('Cefuroxime', CXMf, states, '0100', R=r)\n",
    "    CRO = Drug('Ceftriaxone', CROf, states, '0100', R=r)\n",
    "    AMC = Drug('Amoxicillin+Clav', AMCf, states, '0100', R=r)\n",
    "    CAZ = Drug('Ceftazidime', CAZf, states, '0011', R=r)\n",
    "    CTT = Drug('Cefotetan', CTTf, states, '1101', R=r)\n",
    "    SAM = Drug('Ampicillin+Sulbactam', SAMf, states, '1111', R=r)\n",
    "    CPR = Drug('Cefprozil', CPRf, states, '0011', R=r)\n",
    "    CPD = Drug('Cefpodoxime', CPDf, states, '1010', R=r)\n",
    "    TZP = Drug('Piperacillin+Tazobactam', TZPf, states, '1000', R=r)\n",
    "    FEP = Drug('Cefepime', FEPf, states, '0000', R=r)\n",
    "\n",
    "    # list of all drug Classes\n",
    "    allDrugs = [AMP, AM, CEC, CTX, ZOX , CXM, CRO, AMC, CAZ, CTT, SAM, CPR, CPD, TZP, FEP]\n",
    "        \n",
    "    # Drug we are steering to\n",
    "    # for DRUG in allDrugs:\n",
    "    DRUG = AMP\n",
    "    LPFf = DRUG.LPFf\n",
    "\n",
    "    for i in range(len(allDrugs)):\n",
    "        for j in range(len(allDrugs)):\n",
    "            if allDrugs[i] != DRUG:\n",
    "                if allDrugs[j] != DRUG:\n",
    "                    avgMat = np.zeros([Ap+1, Ap+1])\n",
    "                    for NA in range(0,Ap+1):\n",
    "                        for NB in range(0,Ap+1):\n",
    "                            SN = np.array(S0) * allDrugs[i].tMat**NA * allDrugs[j].tMat**NB * DRUG.tMat**10\n",
    "                            AvgFit = np.dot(np.array(SN[0,:]), AMP.Fit)\n",
    "                            avgMat[NA, NB] = AvgFit\n",
    "                    Z = np.where(np.logical_and(avgMat<=LPFf*(1+Perc), avgMat>=LPFf*(1-Perc)))\n",
    "                    indx = [[r, c] for r in Z[0] for c in Z[1]]\n",
    "                    if len(indx) == 0:\n",
    "                        Z = np.where(avgMat==avgMat.min())\n",
    "                        indx = [[r, c] for r in Z[0] for c in Z[1]]\n",
    "                        vals = [DRUG.name, allDrugs[i].name, indx[0][0], allDrugs[j].name, indx[0][1],\n",
    "                                indx[0][0]/indx[0][1], indx[0][0]+indx[0][1], LPFf, avgMat.min(),\n",
    "                                Ap, DRUG.R, Perc]\n",
    "                    else:\n",
    "                        vals = [DRUG.name, allDrugs[i].name, indx[0][0], allDrugs[j].name, indx[0][1],\n",
    "                                indx[0][0]/indx[0][1], indx[0][0]+indx[0][1], LPFf,\n",
    "                                avgMat[indx[0][0], indx[0][1]], Ap, DRUG.R, Perc]\n",
    "                    if np.isinf(vals[5]) == True:\n",
    "                        vals[5] = -2\n",
    "                    if np.isnan(vals[5]) == True:\n",
    "                        vals[5] = -1\n",
    "                    for n in range(len(vals)):\n",
    "                        try:\n",
    "                            sh1.write(K, n, vals[n])\n",
    "                        except Exception:\n",
    "                            vals[n] = vals[n].astype(np.float)\n",
    "                            sh1.write(K, n, vals[n])\n",
    "                    K = K + 1\n",
    "                        \n",
    "book.save('Plots/Temporal_Asymmetry_Amp_Rchange_0-50-1.xls')"
   ]
  },
  {
   "cell_type": "code",
   "execution_count": null,
   "metadata": {
    "slideshow": {
     "slide_type": "-"
    }
   },
   "outputs": [],
   "source": [
    "df = pd.read_excel('Plots/Temporal_Asymmetry_Amp_Rchange_0-50-1.xls')\n",
    "df = df[df['Drug1+Drug2'] != 0]\n",
    "stSAMCPR = df[(df['Steering Drug 1'] == SAM.name) & (df['Steering Drug 2'] == CPR.name)]\n",
    "stSAMCPR.head(10)"
   ]
  },
  {
   "cell_type": "markdown",
   "metadata": {},
   "source": [
    "The R-Values are plotted with different colors. The steering sequence is the familiar $SAM\\rightarrow CPR\\rightarrow AMP$."
   ]
  },
  {
   "cell_type": "code",
   "execution_count": null,
   "metadata": {},
   "outputs": [],
   "source": [
    "ggplot(aes(x='Steering Drug 1 Amount', y='Steering Drug 2 Amount',\n",
    "           color='R-Value'), data=stSAMCPR) +\\\n",
    "        geom_point() +\\\n",
    "        scale_x_continuous(limits = (0, 11)) +\\\n",
    "        scale_y_continuous(limits = (0, 11)) +\\\n",
    "        ggtitle('Ampicillin Reaches Lowest Peak Fitness') +\\\n",
    "        xlab('SAM Applied') + ylab('CPR Applied')"
   ]
  },
  {
   "cell_type": "code",
   "execution_count": null,
   "metadata": {},
   "outputs": [],
   "source": [
    "my_colors = ['#0000ff','#5922f2','#7a38e6',\n",
    "             '#924bd9','#a65dcc','#b670be',\n",
    "             '#c482b1','#d093a3','#daa594',\n",
    "             '#e3b783','#ecc872','#f3da5d','#f9ec42','#ffff00']\n",
    "\n",
    "# Only plot R=0 or R=1\n",
    "dfR01 = df[df['R-Value'] == 0]\n",
    "# dfR01\n",
    "z = ggplot(dfR01, aes(x='Steering Drug 1 Amount', y='Steering Drug 2 Amount', color='Steering Drug 2')) +\\\n",
    "            geom_point(size=50) +\\\n",
    "            scale_color_manual(values=my_colors) +\\\n",
    "            facet_wrap('Steering Drug 1') +\\\n",
    "            scale_x_continuous(limits = (0, 11)) +\\\n",
    "            scale_y_continuous(limits = (0, 11)) +\\\n",
    "            ggtitle('Ampicillin Reaches Lowest Peak Fitness') +\\\n",
    "            xlab('Drug 1 Applied') + ylab('Drug 2 Applied')\n",
    "z.save('pltR0.png', width=20, height=20, dpi=200)"
   ]
  },
  {
   "cell_type": "code",
   "execution_count": null,
   "metadata": {},
   "outputs": [],
   "source": [
    "my_colors = ['#0000ff','#5922f2','#7a38e6',\n",
    "             '#924bd9','#a65dcc','#b670be',\n",
    "             '#c482b1','#d093a3','#daa594',\n",
    "             '#e3b783','#ecc872','#f3da5d','#f9ec42','#ffff00']\n",
    "\n",
    "# Only plot R=0 or R=1\n",
    "dfR01 = df[df['R-Value'] == 1]\n",
    "# dfR01\n",
    "z = ggplot(dfR01, aes(x='Steering Drug 1 Amount', y='Steering Drug 2 Amount', color='Steering Drug 2')) +\\\n",
    "            geom_point(size=50) +\\\n",
    "            scale_color_manual(values=my_colors) +\\\n",
    "            facet_wrap('Steering Drug 1') +\\\n",
    "            scale_x_continuous(limits = (0, 11)) +\\\n",
    "            scale_y_continuous(limits = (0, 11)) +\\\n",
    "            ggtitle('Ampicillin Reaches Lowest Peak Fitness') +\\\n",
    "            xlab('Drug 1 Applied') + ylab('Drug 2 Applied')\n",
    "z.save('pltR1.png', width=20, height=20, dpi=200)"
   ]
  },
  {
   "cell_type": "markdown",
   "metadata": {},
   "source": [
    "## Next Steps..."
   ]
  },
  {
   "cell_type": "markdown",
   "metadata": {},
   "source": [
    "$\\rho$ decreasing with R and flattening out"
   ]
  },
  {
   "cell_type": "code",
   "execution_count": null,
   "metadata": {},
   "outputs": [],
   "source": []
  },
  {
   "cell_type": "markdown",
   "metadata": {},
   "source": [
    "$\\phi$ dependence on R"
   ]
  },
  {
   "cell_type": "code",
   "execution_count": null,
   "metadata": {},
   "outputs": [],
   "source": []
  },
  {
   "cell_type": "markdown",
   "metadata": {},
   "source": [
    "Nice graph:\n",
    "\n",
    "Polar where every combo is a $\\rho$ vs $\\phi$ scatter plot.\n",
    "\n",
    "Each plot different for R = 0, 1, 2..."
   ]
  },
  {
   "cell_type": "code",
   "execution_count": null,
   "metadata": {},
   "outputs": [],
   "source": []
  },
  {
   "cell_type": "markdown",
   "metadata": {},
   "source": [
    "Can $\\rho$ or $\\phi$ be predicted from the structure of the drug matrix.\n",
    "\n",
    "Keyword: eigenspectrum"
   ]
  },
  {
   "cell_type": "code",
   "execution_count": null,
   "metadata": {},
   "outputs": [],
   "source": []
  },
  {
   "cell_type": "markdown",
   "metadata": {},
   "source": [
    "$f_{ABC}(x, y, \\infty) = \\epsilon f_{ABC}(\\infty, \\infty, \\infty)$"
   ]
  },
  {
   "cell_type": "code",
   "execution_count": null,
   "metadata": {},
   "outputs": [],
   "source": []
  }
 ],
 "metadata": {
  "kernelspec": {
   "display_name": "Python 3",
   "language": "python",
   "name": "python3"
  },
  "language_info": {
   "codemirror_mode": {
    "name": "ipython",
    "version": 3
   },
   "file_extension": ".py",
   "mimetype": "text/x-python",
   "name": "python",
   "nbconvert_exporter": "python",
   "pygments_lexer": "ipython3",
   "version": "3.6.6"
  }
 },
 "nbformat": 4,
 "nbformat_minor": 1
}
