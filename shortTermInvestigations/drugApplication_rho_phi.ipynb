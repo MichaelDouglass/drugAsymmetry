{
 "cells": [
  {
   "cell_type": "code",
   "execution_count": null,
   "metadata": {},
   "outputs": [],
   "source": [
    "import pandas as pd\n",
    "import numpy as np\n",
    "import matplotlib as mpl\n",
    "import matplotlib.pyplot as plt\n",
    "%matplotlib inline\n",
    "import csv\n",
    "import time"
   ]
  },
  {
   "cell_type": "markdown",
   "metadata": {},
   "source": [
    "Each drug has a fitness vector corresponding to the genetic state 0000, 0001, 0010, ..."
   ]
  },
  {
   "cell_type": "code",
   "execution_count": null,
   "metadata": {},
   "outputs": [],
   "source": [
    "AMPf = np.array([1.851, 2.082, 1.948, 2.434, 2.024, 2.198, 2.033, 0.034, 1.57, 2.165, 0.051, 0.083, 2.186, 2.322, 0.088, 2.821])\n",
    "AMf  = np.array([1.778, 1.782, 2.042, 1.752, 1.448, 1.544, 1.184, 0.063, 1.72, 2.008, 1.799, 2.005, 1.557, 2.247, 1.768, 2.047])\n",
    "CECf = np.array([2.258, 1.996, 2.151, 2.648, 2.396, 1.846, 2.23, 0.214, 0.234, 0.172, 2.242, 0.093, 2.15, 0.095, 2.64, 0.516])\n",
    "CTXf = np.array([0.16, 0.085, 1.936, 2.348, 1.653, 0.138, 2.295, 2.269, 0.185, 0.14, 1.969, 0.203, 0.225, 0.092, 0.119, 2.412])\n",
    "ZOXf = np.array([0.993, 0.805, 2.069, 2.683, 1.698, 2.01, 2.138, 2.688, 1.106, 1.171, 1.894, 0.681, 1.116, 1.105, 1.103, 2.591])\n",
    "CXMf = np.array([1.748, 1.7, 2.07, 1.938, 2.94, 2.173, 2.918, 3.272, 0.423, 1.578, 1.911, 2.754, 2.024, 1.678, 1.591, 2.923])\n",
    "CROf = np.array([1.092, 0.287, 2.554, 3.042, 2.88, 0.656, 2.732, 0.436, 0.83, 0.54, 3.173, 1.153, 1.407, 0.751, 2.74, 3.227])\n",
    "AMCf = np.array([1.435, 1.573, 1.061, 1.457, 1.672, 1.625, 0.073, 0.068, 1.417, 1.351, 1.538, 1.59, 1.377, 1.914, 1.307, 1.728])\n",
    "CAZf = np.array([2.134, 2.656, 2.618, 2.688, 2.042, 2.756, 2.924, 0.251, 0.288, 0.576, 1.604, 1.378, 2.63, 2.677, 2.893, 2.563])\n",
    "CTTf = np.array([2.125, 1.922, 2.804, 0.588, 3.291, 2.888, 3.082, 3.508, 3.238, 2.966, 2.883, 0.89, 0.546, 3.181, 3.193, 2.543])\n",
    "SAMf = np.array([1.879, 2.533, 0.133, 0.094, 2.456, 2.437, 0.083, 0.094, 2.198, 2.57, 2.308, 2.886, 2.504, 3.002, 2.528, 3.453])\n",
    "CPRf = np.array([1.743, 1.662, 1.763, 1.785, 2.018, 2.05, 2.042, 0.218, 1.553, 0.256, 0.165, 0.221, 0.223, 0.239, 1.811, 0.288])\n",
    "CPDf = np.array([0.595, 0.245, 2.604, 3.043, 1.761, 1.471, 2.91, 3.096, 0.432, 0.388, 2.651, 1.103, 0.638, 0.986, 0.963, 3.268])\n",
    "TZPf = np.array([2.679, 2.906, 2.427, 0.141, 3.038, 3.309, 2.528, 0.143, 2.709, 2.5, 0.172, 0.093, 2.453, 2.739, 0.609, 0.171])\n",
    "FEPf = np.array([2.59, 2.572, 2.393, 2.832, 2.44, 2.808, 2.652, 0.611, 2.067, 2.446, 2.957, 2.633, 2.735, 2.863, 2.796, 3.203])"
   ]
  },
  {
   "cell_type": "code",
   "execution_count": null,
   "metadata": {},
   "outputs": [],
   "source": [
    "# Assign State Binary Genotypes for labels\n",
    "N = 4  # Bit Count of States\n",
    "states = []\n",
    "for i in range(16):\n",
    "    b = format(i, 'b')\n",
    "    bB = b.zfill(N)\n",
    "    states.append(bB)\n",
    "\n",
    "# Define the Hamming Distance\n",
    "def hamDist(Si, Sj):\n",
    "    return sum(ei != ej for ei, ej in zip(Si, Sj))\n",
    "\n",
    "# Zero State of equal probabilities\n",
    "S0 = np.array(np.ones(len(states))/2**N)\n",
    "\n",
    "# Make a drug class\n",
    "class Drug:\n",
    "    # This will make it easy to call certain qualities\n",
    "    # Arguments:\n",
    "    # name is a string\n",
    "    # Fit is an array of the fitness values\n",
    "    # States is the binary genotype that corresponds to the bins\n",
    "    # R is the biasing variable that we set to 0\n",
    "    def __init__(self, name, Fit, states, LFP, R=0):\n",
    "        # @par\n",
    "        self.name = name\n",
    "        self.Fit = np.array(Fit)\n",
    "        self.states = states\n",
    "        self.LFP = LFP\n",
    "        self.R = R\n",
    "        \n",
    "        # The following code is to calculate the transition matrix\n",
    "        P = np.zeros([len(self.states),len(self.states)])\n",
    "    \n",
    "        for i in range(len(self.states)):\n",
    "            for j in range(len(self.states)):\n",
    "                if self.Fit[j] >= self.Fit[i] and hamDist(self.states[i], self.states[j]) == 1:\n",
    "                    P[i, j] = (self.Fit[j] - self.Fit[i])**R\n",
    "                    d = 0\n",
    "                    for s in range(len(self.states)):\n",
    "                        if hamDist(self.states[i], self.states[s]) == 1 and self.Fit[s] > self.Fit[i]:\n",
    "                            d = d + (self.Fit[s] - self.Fit[i])**R\n",
    "                    P[i, j] = P[i, j]/d\n",
    "                    \n",
    "                    \n",
    "        # if there is no probability to reach any other state,\n",
    "        # there is 100% probability to remain in the initial state.\n",
    "        for p in range(len(P)):\n",
    "            spots = np.where(P[p] != 0)\n",
    "            if len(spots[0])==0:\n",
    "                P[p, p]=1\n",
    "\n",
    "        self.tMat = np.matrix(P)\n",
    "        self.LPFf = self.Fit[int(self.LFP, 2)]"
   ]
  },
  {
   "cell_type": "code",
   "execution_count": null,
   "metadata": {},
   "outputs": [],
   "source": [
    "AMP = Drug('Ampicillin', AMPf, states, '0110')\n",
    "AM = Drug('Amoxicillin', AMf, states, '0010')\n",
    "CEC = Drug('Cefaclor', CECf, states, '0100')\n",
    "CTX = Drug('Cefotaxime', CTXf, states, '1010')\n",
    "ZOX = Drug('Ceftizoxime', ZOXf, states, '1001')\n",
    "CXM = Drug('Cefuroxime', CXMf, states, '0100')\n",
    "CRO = Drug('Ceftriaxone', CROf, states, '0100')\n",
    "AMC = Drug('Amoxicillin+Clav', AMCf, states, '0100')\n",
    "CAZ = Drug('Ceftazidime', CAZf, states, '0011')\n",
    "CTT = Drug('Cefotetan', CTTf, states, '1101')\n",
    "SAM = Drug('Ampicillin+Sulbactam', SAMf, states, '1111')\n",
    "CPR = Drug('Cefprozil', CPRf, states, '0011')\n",
    "CPD = Drug('Cefpodoxime', CPDf, states, '1010')\n",
    "TZP = Drug('Piperacillin+Tazobactam', TZPf, states, '1000')\n",
    "FEP = Drug('Cefepime', FEPf, states, '0000')"
   ]
  },
  {
   "cell_type": "code",
   "execution_count": null,
   "metadata": {},
   "outputs": [],
   "source": [
    "# list of all drug Classes\n",
    "allDrugs = [AMP, AM, CEC, CTX, ZOX , CXM, CRO, AMC, CAZ, CTT, SAM, CPR, CPD, TZP, FEP]"
   ]
  },
  {
   "cell_type": "code",
   "execution_count": null,
   "metadata": {},
   "outputs": [],
   "source": [
    "col_names=['Final Drug', 'Steering Drug 1', 'Steering Drug 1 Amount', 'Steering Drug 2', 'Steering Drug 2 Amount',\n",
    "           'Drug1:Drug2', 'Drug1+Drug2', 'Fitness of infinite apps', 'Lowest Fitness Achieved',\n",
    "           'Maximum Simulated Drug Application', 'R-Value', 'epsilon', 'rho', 'theta']"
   ]
  },
  {
   "cell_type": "markdown",
   "metadata": {},
   "source": [
    "## Exploring the Importance of Third Drug Application"
   ]
  },
  {
   "cell_type": "markdown",
   "metadata": {},
   "source": [
    "Applying the third drug --- the steered drug --- provides the landscape after single or infinite applications. We can also look at the landscape just before applying the third drug."
   ]
  },
  {
   "cell_type": "markdown",
   "metadata": {},
   "source": [
    "We test up to 10 applications with tolerance $\\epsilon$ defined as follows.\n",
    "\n",
    "$$f_{\\mathrm{simulate}}(\\mathrm{NA, NB, NC})=\\epsilon f_{\\mathrm{inf}}(\\infty, \\infty, \\mathrm{NC}) $$\n",
    "\n",
    "NA, NB, and NC are the number of times a drug is applied.\n",
    "NA and NB are ranges of 0 to 10 (applications) and NC is either 0, 1, or infinity."
   ]
  },
  {
   "cell_type": "markdown",
   "metadata": {},
   "source": [
    "First, we look at the fitness \n",
    "### Without applying the third drug"
   ]
  },
  {
   "cell_type": "code",
   "execution_count": null,
   "metadata": {},
   "outputs": [],
   "source": [
    "start = time.time()\n",
    "app = 10\n",
    "epsilon = 0.05\n",
    "\n",
    "filename = 'R0-10_AllDrugs_OnlyCountedWithin95perc_app10_eps_NoThirdInf.csv'\n",
    "f = open(filename, 'w')\n",
    "drugWriter = csv.writer(f, delimiter=',', lineterminator='\\n')\n",
    "\n",
    "for r in range(0, 11):\n",
    "\n",
    "    AMP = Drug('Ampicillin', AMPf, states, '0110', R=r)\n",
    "    AM = Drug('Amoxicillin', AMf, states, '0010', R=r)\n",
    "    CEC = Drug('Cefaclor', CECf, states, '0100', R=r)\n",
    "    CTX = Drug('Cefotaxime', CTXf, states, '1010', R=r)\n",
    "    ZOX = Drug('Ceftizoxime', ZOXf, states, '1001', R=r)\n",
    "    CXM = Drug('Cefuroxime', CXMf, states, '0100', R=r)\n",
    "    CRO = Drug('Ceftriaxone', CROf, states, '0100', R=r)\n",
    "    AMC = Drug('Amoxicillin+Clav', AMCf, states, '0100', R=r)\n",
    "    CAZ = Drug('Ceftazidime', CAZf, states, '0011', R=r)\n",
    "    CTT = Drug('Cefotetan', CTTf, states, '1101', R=r)\n",
    "    SAM = Drug('Ampicillin+Sulbactam', SAMf, states, '1111', R=r)\n",
    "    CPR = Drug('Cefprozil', CPRf, states, '0011', R=r)\n",
    "    CPD = Drug('Cefpodoxime', CPDf, states, '1010', R=r)\n",
    "    TZP = Drug('Piperacillin+Tazobactam', TZPf, states, '1000', R=r)\n",
    "    FEP = Drug('Cefepime', FEPf, states, '0000', R=r)\n",
    "\n",
    "    # list of all drug Classes\n",
    "    allDrugs = [AMP, AM, CEC, CTX, ZOX , CXM, CRO, AMC, CAZ, CTT, SAM, CPR, CPD, TZP, FEP]\n",
    "    # This iterates as the third drug\n",
    "    for DRUG in allDrugs:\n",
    "        # First Drug applied\n",
    "        for i, DRUG1 in enumerate(allDrugs):\n",
    "            # Second drug applied\n",
    "            for j, DRUG2 in enumerate(allDrugs):\n",
    "                # Make sure the drug sequence does not include the\n",
    "                # final steering drug\n",
    "                if DRUG1 != DRUG:\n",
    "                    if DRUG2 != DRUG:\n",
    "                        # Initialize a matrix\n",
    "                        avgFitMat = np.zeros([app+1, app+1])\n",
    "                        # f(inf, inf, inf) calculation\n",
    "#                         fInfSN = np.array(S0) * DRUG1.tMat**100 * DRUG2.tMat**100 * DRUG.tMat**100\n",
    "                        fInfSN = np.array(S0) * DRUG1.tMat**100 * DRUG2.tMat**100\n",
    "                        fInfAvgFit = np.dot(np.array(fInfSN[0, :]), DRUG.Fit)\n",
    "                        # Calculate f(NA, NB, inf)\n",
    "                        for NA in range(0, app+1):\n",
    "                            for NB in range(0, app+1):\n",
    "#                                 SN = np.array(S0) * DRUG1.tMat**NA * DRUG2.tMat**NB * DRUG.tMat**100\n",
    "                                SN = np.array(S0) * DRUG1.tMat**NA * DRUG2.tMat**NB\n",
    "                                # Calculate the average fitness for NA, NB apps\n",
    "                                avgFit = np.dot(np.array(SN[0, :]), DRUG.Fit)\n",
    "                                # And put that value in a matrix\n",
    "                                avgFitMat[NA, NB] = avgFit\n",
    "                        # Now make the comparison to find\n",
    "                        # f(NA, NB, inf) = epsilon * f(inf, inf, inf)\n",
    "                        # on Second thought, this kind of does not make sense\n",
    "                        # if the value is not a max, right...\n",
    "#                         Z = np.where(avgFitMat <= (1+epsilon) * fInfAvgFit)\n",
    "                        # Instead, f(NA, NB, inf) = (1+/-epsilon) * f(inf, inf, inf)\n",
    "                        Z = np.where(np.logical_and(avgFitMat<=fInfAvgFit*(1+epsilon), avgFitMat>=fInfAvgFit*(1-epsilon)))\n",
    "                        indx = [[r, c] for r in Z[0] for c in Z[1]]\n",
    "                        if len(indx) == 0:\n",
    "                            pass\n",
    "                        else:\n",
    "                            # Applied drug 1 x times\n",
    "                            x = indx[0][0]\n",
    "                            # Applied drug 2 y times\n",
    "                            y = indx[0][1]\n",
    "                            vals = [DRUG.name, DRUG1.name, x, DRUG2.name, y,\n",
    "                                    x/y, x+y, fInfAvgFit, avgFitMat[x, y], app,\n",
    "                                    DRUG.R, epsilon, np.sqrt(x**2 + y**2),\n",
    "                                    np.arctan(y/x)]\n",
    "                            drugWriter.writerow(vals)\n",
    "end = time.time()\n",
    "print(end-start)"
   ]
  },
  {
   "cell_type": "markdown",
   "metadata": {},
   "source": [
    "Looking at the data as a dataframe for our familiar $SAM\\rightarrow CPR \\rightarrow AMP$."
   ]
  },
  {
   "cell_type": "code",
   "execution_count": null,
   "metadata": {},
   "outputs": [],
   "source": [
    "filename = 'R0-10_AllDrugs_OnlyCountedWithin95perc_app10_eps_NoThirdInf.csv'\n",
    "df = pd.read_csv(filename, names=col_names)\n",
    "df = df[df['Final Drug'] == AMP.name]\n",
    "df = df[(df['Steering Drug 1'] == SAM.name) & (df['Steering Drug 2'] == CPR.name)]\n",
    "df"
   ]
  },
  {
   "cell_type": "markdown",
   "metadata": {},
   "source": [
    "### With third DRUG Application Infinite times"
   ]
  },
  {
   "cell_type": "code",
   "execution_count": null,
   "metadata": {},
   "outputs": [],
   "source": [
    "start = time.time()\n",
    "app = 10\n",
    "epsilon = 0.05\n",
    "\n",
    "filename = 'R0-10_AllDrugs_OnlyCountedWithin95perc_app10_eps_infThird.csv'\n",
    "f = open(filename, 'w')\n",
    "drugWriter = csv.writer(f, delimiter=',', lineterminator='\\n')\n",
    "\n",
    "for r in range(0, 11):\n",
    "\n",
    "    AMP = Drug('Ampicillin', AMPf, states, '0110', R=r)\n",
    "    AM = Drug('Amoxicillin', AMf, states, '0010', R=r)\n",
    "    CEC = Drug('Cefaclor', CECf, states, '0100', R=r)\n",
    "    CTX = Drug('Cefotaxime', CTXf, states, '1010', R=r)\n",
    "    ZOX = Drug('Ceftizoxime', ZOXf, states, '1001', R=r)\n",
    "    CXM = Drug('Cefuroxime', CXMf, states, '0100', R=r)\n",
    "    CRO = Drug('Ceftriaxone', CROf, states, '0100', R=r)\n",
    "    AMC = Drug('Amoxicillin+Clav', AMCf, states, '0100', R=r)\n",
    "    CAZ = Drug('Ceftazidime', CAZf, states, '0011', R=r)\n",
    "    CTT = Drug('Cefotetan', CTTf, states, '1101', R=r)\n",
    "    SAM = Drug('Ampicillin+Sulbactam', SAMf, states, '1111', R=r)\n",
    "    CPR = Drug('Cefprozil', CPRf, states, '0011', R=r)\n",
    "    CPD = Drug('Cefpodoxime', CPDf, states, '1010', R=r)\n",
    "    TZP = Drug('Piperacillin+Tazobactam', TZPf, states, '1000', R=r)\n",
    "    FEP = Drug('Cefepime', FEPf, states, '0000', R=r)\n",
    "\n",
    "    # list of all drug Classes\n",
    "    allDrugs = [AMP, AM, CEC, CTX, ZOX , CXM, CRO, AMC, CAZ, CTT, SAM, CPR, CPD, TZP, FEP]\n",
    "    # This iterates as the third drug\n",
    "    for DRUG in allDrugs:\n",
    "        # First Drug applied\n",
    "        for i, DRUG1 in enumerate(allDrugs):\n",
    "            # Second drug applied\n",
    "            for j, DRUG2 in enumerate(allDrugs):\n",
    "                # Make sure the drug sequence does not include the\n",
    "                # final steering drug\n",
    "                if DRUG1 != DRUG:\n",
    "                    if DRUG2 != DRUG:\n",
    "                        # Initialize a matrix\n",
    "                        avgFitMat = np.zeros([app+1, app+1])\n",
    "                        # f(inf, inf, inf) calculation\n",
    "                        fInfSN = np.array(S0) * DRUG1.tMat**100 * DRUG2.tMat**100 * DRUG.tMat**100\n",
    "                        fInfAvgFit = np.dot(np.array(fInfSN[0, :]), DRUG.Fit)\n",
    "                        # Calculate f(NA, NB, inf)\n",
    "                        for NA in range(0, app+1):\n",
    "                            for NB in range(0, app+1):\n",
    "                                # Fitness before third drug\n",
    "                                SN = np.array(S0) * DRUG1.tMat**NA * DRUG2.tMat**NB * DRUG.tMat**100\n",
    "                                # Calculate the average fitness for NA, NB apps\n",
    "                                avgFit = np.dot(np.array(SN[0, :]), DRUG.Fit)\n",
    "                                # And put that value in a matrix\n",
    "                                avgFitMat[NA, NB] = avgFit\n",
    "                        # Now make the comparison to find\n",
    "                        # f(NA, NB, inf) = epsilon * f(inf, inf, inf)\n",
    "                        # on Second thought, this kind of does not make sense\n",
    "                        # if the value is not a max, right...\n",
    "#                         Z = np.where(avgFitMat >= epsilon * fInfAvgFit)\n",
    "                        # Instead, f(NA, NB, inf) = (1+/-epsilon) * f(inf, inf, inf)\n",
    "                        Z = np.where(np.logical_and(avgFitMat<=fInfAvgFit*(1+epsilon), avgFitMat>=fInfAvgFit*(1-epsilon)))\n",
    "                        indx = [[r, c] for r in Z[0] for c in Z[1]]\n",
    "                        if len(indx) == 0:\n",
    "                            pass\n",
    "                        else:\n",
    "                            # Applied drug 1 x times\n",
    "                            x = indx[0][0]\n",
    "                            # Applied drug 2 y times\n",
    "                            y = indx[0][1]\n",
    "                            vals = [DRUG.name, DRUG1.name, x, DRUG2.name, y,\n",
    "                                    x/y, x+y, fInfAvgFit, avgFitMat[x, y], app,\n",
    "                                    DRUG.R, epsilon, np.sqrt(x**2 + y**2),\n",
    "                                    np.arctan(y/x)]\n",
    "                            drugWriter.writerow(vals)\n",
    "end = time.time()\n",
    "print(end-start)"
   ]
  },
  {
   "cell_type": "code",
   "execution_count": null,
   "metadata": {},
   "outputs": [],
   "source": [
    "filename = 'R0-10_AllDrugs_OnlyCountedWithin95perc_app10_eps_infThird.csv'\n",
    "df = pd.read_csv(filename, names=col_names)\n",
    "df = df[df['Final Drug'] == AMP.name]\n",
    "df = df[(df['Steering Drug 1'] == SAM.name) & (df['Steering Drug 2'] == CPR.name)]\n",
    "df"
   ]
  },
  {
   "cell_type": "markdown",
   "metadata": {},
   "source": [
    "### With third DRUG Application One Time"
   ]
  },
  {
   "cell_type": "code",
   "execution_count": null,
   "metadata": {},
   "outputs": [],
   "source": [
    "start = time.time()\n",
    "app = 10\n",
    "epsilon = 0.05\n",
    "\n",
    "filename = 'R0-10_AllDrugs_OnlyCountedWithin95perc_app10_eps_onceThird.csv'\n",
    "f = open(filename, 'w')\n",
    "drugWriter = csv.writer(f, delimiter=',', lineterminator='\\n')\n",
    "\n",
    "for r in range(0, 11):\n",
    "\n",
    "    AMP = Drug('Ampicillin', AMPf, states, '0110', R=r)\n",
    "    AM = Drug('Amoxicillin', AMf, states, '0010', R=r)\n",
    "    CEC = Drug('Cefaclor', CECf, states, '0100', R=r)\n",
    "    CTX = Drug('Cefotaxime', CTXf, states, '1010', R=r)\n",
    "    ZOX = Drug('Ceftizoxime', ZOXf, states, '1001', R=r)\n",
    "    CXM = Drug('Cefuroxime', CXMf, states, '0100', R=r)\n",
    "    CRO = Drug('Ceftriaxone', CROf, states, '0100', R=r)\n",
    "    AMC = Drug('Amoxicillin+Clav', AMCf, states, '0100', R=r)\n",
    "    CAZ = Drug('Ceftazidime', CAZf, states, '0011', R=r)\n",
    "    CTT = Drug('Cefotetan', CTTf, states, '1101', R=r)\n",
    "    SAM = Drug('Ampicillin+Sulbactam', SAMf, states, '1111', R=r)\n",
    "    CPR = Drug('Cefprozil', CPRf, states, '0011', R=r)\n",
    "    CPD = Drug('Cefpodoxime', CPDf, states, '1010', R=r)\n",
    "    TZP = Drug('Piperacillin+Tazobactam', TZPf, states, '1000', R=r)\n",
    "    FEP = Drug('Cefepime', FEPf, states, '0000', R=r)\n",
    "\n",
    "    # list of all drug Classes\n",
    "    allDrugs = [AMP, AM, CEC, CTX, ZOX , CXM, CRO, AMC, CAZ, CTT, SAM, CPR, CPD, TZP, FEP]\n",
    "    # This iterates as the third drug\n",
    "    for DRUG in allDrugs:\n",
    "        # First Drug applied\n",
    "        for i, DRUG1 in enumerate(allDrugs):\n",
    "            # Second drug applied\n",
    "            for j, DRUG2 in enumerate(allDrugs):\n",
    "                # Make sure the drug sequence does not include the\n",
    "                # final steering drug\n",
    "                if DRUG1 != DRUG:\n",
    "                    if DRUG2 != DRUG:\n",
    "                        # Initialize a matrix\n",
    "                        avgFitMat = np.zeros([app+1, app+1])\n",
    "                        # f(inf, inf, inf) calculation\n",
    "                        fInfSN = np.array(S0) * DRUG1.tMat**100 * DRUG2.tMat**100 * DRUG.tMat**100\n",
    "                        fInfAvgFit = np.dot(np.array(fInfSN[0, :]), DRUG.Fit)\n",
    "                        # Calculate f(NA, NB, inf)\n",
    "                        for NA in range(0, app+1):\n",
    "                            for NB in range(0, app+1):\n",
    "                                # Fitness before third drug\n",
    "                                SN = np.array(S0) * DRUG1.tMat**NA * DRUG2.tMat**NB * DRUG.tMat**1\n",
    "                                # Calculate the average fitness for NA, NB apps\n",
    "                                avgFit = np.dot(np.array(SN[0, :]), DRUG.Fit)\n",
    "                                # And put that value in a matrix\n",
    "                                avgFitMat[NA, NB] = avgFit\n",
    "                        # Now make the comparison to find\n",
    "                        # f(NA, NB, inf) = epsilon * f(inf, inf, inf)\n",
    "                        # on Second thought, this kind of does not make sense\n",
    "                        # if the value is not a max, right...\n",
    "#                         Z = np.where(avgFitMat >= epsilon * fInfAvgFit)\n",
    "                        # Instead, f(NA, NB, inf) = (1+/-epsilon) * f(inf, inf, inf)\n",
    "                        Z = np.where(np.logical_and(avgFitMat<=fInfAvgFit*(1+epsilon), avgFitMat>=fInfAvgFit*(1-epsilon)))\n",
    "                        indx = [[r, c] for r in Z[0] for c in Z[1]]\n",
    "                        if len(indx) == 0:\n",
    "                            pass\n",
    "                        else:\n",
    "                            # Applied drug 1 x times\n",
    "                            x = indx[0][0]\n",
    "                            # Applied drug 2 y times\n",
    "                            y = indx[0][1]\n",
    "                            vals = [DRUG.name, DRUG1.name, x, DRUG2.name, y,\n",
    "                                    x/y, x+y, fInfAvgFit, avgFitMat[x, y], app,\n",
    "                                    DRUG.R, epsilon, np.sqrt(x**2 + y**2),\n",
    "                                    np.arctan(y/x)]\n",
    "                            drugWriter.writerow(vals)\n",
    "end = time.time()\n",
    "print(end-start)"
   ]
  },
  {
   "cell_type": "code",
   "execution_count": null,
   "metadata": {
    "scrolled": false
   },
   "outputs": [],
   "source": [
    "filename = 'R0-10_AllDrugs_OnlyCountedWithin95perc_app10_eps_onceThird.csv'\n",
    "df = pd.read_csv(filename, names=col_names)\n",
    "df = df[df['Final Drug'] == AMP.name]\n",
    "df = df[(df['Steering Drug 1'] == SAM.name) & (df['Steering Drug 2'] == CPR.name)]\n",
    "df"
   ]
  },
  {
   "cell_type": "markdown",
   "metadata": {},
   "source": [
    "### Short Discussion\n",
    "\n",
    "Without applying the third drug, I do not know what value to attempt to reach. In showing asymmetry, we have suggested that we can approach the lowest fitness peak with different weights from two steering drugs.\n",
    "\n",
    "The infinite and single applications of the final drug make sense to show that we change the effect of the final drug based on the application of two steering drugs.\n",
    "\n",
    "At first, I thought that maybe 10 applications was not enough to show how the fitness matrix changes before applying the final drug; however, we can investigate very briefly the difference in applying the third drug by showing the SAM CPR AMP progression."
   ]
  },
  {
   "cell_type": "code",
   "execution_count": null,
   "metadata": {},
   "outputs": [],
   "source": [
    "fig, axes = plt.subplots(ncols=3, nrows=1, figsize=(18,10))\n",
    "\n",
    "Ap = 20\n",
    "avgMat = np.zeros([Ap+1, Ap+1])\n",
    "for NA in range(0,Ap+1):\n",
    "    for NB in range(0,Ap+1):\n",
    "        SN = np.array(S0) * SAM.tMat**NA * CPR.tMat**NB\n",
    "        AvgFit = np.dot(np.array(SN[0,:]), AMP.Fit)\n",
    "        avgMat[NA, NB] = AvgFit\n",
    "cmap = plt.cm.inferno\n",
    "norm = mpl.colors.BoundaryNorm(np.arange(0,3.4,0.2), cmap.N)\n",
    "ax = axes[0]\n",
    "Z0 = ax.matshow(avgMat, cmap=cmap, norm=norm)\n",
    "ax.set_xlabel('CPR Applied NB Times')\n",
    "ax.set_ylabel('SAM Applied NA Times')\n",
    "ax.set_title('Average Fitness <f> without applying AMP')\n",
    "\n",
    "avgMat = np.zeros([Ap+1, Ap+1])\n",
    "for NA in range(0,Ap+1):\n",
    "    for NB in range(0,Ap+1):\n",
    "        SN = np.array(S0) * SAM.tMat**NA * CPR.tMat**NB * AMP.tMat**100\n",
    "        AvgFit = np.dot(np.array(SN[0,:]), AMP.Fit)\n",
    "        avgMat[NA, NB] = AvgFit\n",
    "cmap = plt.cm.inferno\n",
    "norm = mpl.colors.BoundaryNorm(np.arange(0,3.4,0.2), cmap.N)\n",
    "ax = axes[1]\n",
    "Z = ax.matshow(avgMat, cmap=cmap, norm=norm)\n",
    "ax.set_xlabel('CPR Applied NB Times')\n",
    "ax.set_ylabel('SAM Applied NA Times')\n",
    "ax.set_title('Average Fitness <f> Applying AMP $\\infty$ Times')\n",
    "\n",
    "avgMat = np.zeros([Ap+1, Ap+1])\n",
    "for NA in range(0,Ap+1):\n",
    "    for NB in range(0,Ap+1):\n",
    "        SN = np.array(S0) * SAM.tMat**NA * CPR.tMat**NB * AMP.tMat\n",
    "        AvgFit = np.dot(np.array(SN[0,:]), AMP.Fit)\n",
    "        avgMat[NA, NB] = AvgFit\n",
    "cmap = plt.cm.inferno\n",
    "norm = mpl.colors.BoundaryNorm(np.arange(0,3.4,0.2), cmap.N)\n",
    "ax = axes[2]\n",
    "Z = ax.matshow(avgMat, cmap=cmap, norm=norm)\n",
    "ax.set_xlabel('CPR Applied NB Times')\n",
    "ax.set_ylabel('SAM Applied NA Times')\n",
    "ax.set_title('Average Fitness <f> without applying AMP Once')\n",
    "fig.colorbar(Z0,  ax=axes.ravel().tolist(), orientation='horizontal')\n",
    "plt.show()"
   ]
  },
  {
   "cell_type": "markdown",
   "metadata": {},
   "source": [
    "This shows that increasing the application amount beyond 10 to 20 does not affect the values in the long run. In fact this suggests that we only have to look at a very small subset of applications.\n",
    "\n",
    "But, to the point of what we are looking for, without applying the final drug, there is a global minimum at close to zero. This, however, is not the value of $f_\\mathrm{inf}(\\infty, \\infty, \\infty)$. In this case, the value of $f_\\mathrm{inf}$ is 2.033. This global minimum is important, and it is likely that the same relationship to reaching $f_\\mathrm{inf}$."
   ]
  },
  {
   "cell_type": "code",
   "execution_count": null,
   "metadata": {},
   "outputs": [],
   "source": [
    "fig = plt.figure()\n",
    "ax = fig.add_subplot(111)\n",
    "ax.matshow(AMP.tMat)"
   ]
  },
  {
   "cell_type": "markdown",
   "metadata": {},
   "source": [
    "## Applying New Concepts and defining $\\rho$ and $\\phi$."
   ]
  },
  {
   "cell_type": "markdown",
   "metadata": {},
   "source": [
    "$\\rho$ decreasing with R and flattening out"
   ]
  },
  {
   "cell_type": "code",
   "execution_count": null,
   "metadata": {},
   "outputs": [],
   "source": []
  },
  {
   "cell_type": "markdown",
   "metadata": {},
   "source": [
    "$\\phi$ dependence on R"
   ]
  },
  {
   "cell_type": "code",
   "execution_count": null,
   "metadata": {},
   "outputs": [],
   "source": []
  },
  {
   "cell_type": "markdown",
   "metadata": {},
   "source": [
    "Nice graph:\n",
    "\n",
    "Polar where every combo is a $\\rho$ vs $\\phi$ scatter plot.\n",
    "\n",
    "Each plot different for R = 0, 1, 2..."
   ]
  },
  {
   "cell_type": "code",
   "execution_count": null,
   "metadata": {},
   "outputs": [],
   "source": []
  },
  {
   "cell_type": "markdown",
   "metadata": {},
   "source": [
    "Can $\\rho$ or $\\phi$ be predicted from the structure of the drug matrix.\n",
    "\n",
    "Keyword: eigenspectrum"
   ]
  },
  {
   "cell_type": "code",
   "execution_count": null,
   "metadata": {},
   "outputs": [],
   "source": []
  },
  {
   "cell_type": "markdown",
   "metadata": {},
   "source": [
    "$f_{ABC}(x, y, \\infty) = \\epsilon f_{ABC}(\\infty, \\infty, \\infty)$"
   ]
  },
  {
   "cell_type": "code",
   "execution_count": null,
   "metadata": {},
   "outputs": [],
   "source": []
  }
 ],
 "metadata": {
  "kernelspec": {
   "display_name": "Python 3",
   "language": "python",
   "name": "python3"
  },
  "language_info": {
   "codemirror_mode": {
    "name": "ipython",
    "version": 3
   },
   "file_extension": ".py",
   "mimetype": "text/x-python",
   "name": "python",
   "nbconvert_exporter": "python",
   "pygments_lexer": "ipython3",
   "version": "3.6.5"
  }
 },
 "nbformat": 4,
 "nbformat_minor": 2
}
